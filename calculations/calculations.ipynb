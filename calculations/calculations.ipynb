{
 "cells": [
  {
   "cell_type": "code",
   "execution_count": 2,
   "metadata": {},
   "outputs": [],
   "source": [
    "import matplotlib.pyplot as plt\n",
    "import numpy as np\n",
    "import pandas as pd\n",
    "import math"
   ]
  },
  {
   "attachments": {},
   "cell_type": "markdown",
   "metadata": {},
   "source": [
    "## Sensor Calibration"
   ]
  },
  {
   "cell_type": "code",
   "execution_count": 33,
   "metadata": {},
   "outputs": [],
   "source": [
    "xs = [474.0, 593.0, 702.0] # pixel +- 10\n",
    "lams = [0.41, 0.5, 0.56] # um +- 30"
   ]
  },
  {
   "cell_type": "code",
   "execution_count": 54,
   "metadata": {},
   "outputs": [],
   "source": [
    "g = 1.514 # um\n",
    "\n",
    "def calc_d(x, lam):\n",
    "    return x/(math.tan(math.asin(lam/g)))\n",
    "\n",
    "def delta_d(x, delta_x, lam, delta_lam):\n",
    "    del_x = 1/( math.tan( math.asin(lam/g) ) )\n",
    "    del_lam = g*x/( (lam**2) * math.sqrt( 1 - (lam**2)/(g**2) ) )\n",
    "    return math.sqrt( (del_x * delta_x)**2 + (del_lam * delta_lam)**2 )"
   ]
  },
  {
   "cell_type": "code",
   "execution_count": 74,
   "metadata": {},
   "outputs": [
    {
     "name": "stdout",
     "output_type": "stream",
     "text": [
      "Distance between camera and grating: 1.71 +- 0.12 um\n"
     ]
    }
   ],
   "source": [
    "D = 0\n",
    "delta_D = 0\n",
    "\n",
    "for i,j in zip(xs,lams):\n",
    "    D += calc_d(i,j)\n",
    "    delta_D += delta_d(i, 10.0, j, 0.03)\n",
    "\n",
    "D /= len(xs)\n",
    "delta_D /= len(lams)\n",
    "print(\"Distance between camera and grating:\", round(D/1000,2), \"+-\", round(delta_D/1000,2), \"mm\")\n"
   ]
  },
  {
   "cell_type": "code",
   "execution_count": 71,
   "metadata": {},
   "outputs": [],
   "source": [
    "def calc_lam(x):\n",
    "    return g*math.sin(math.atan(x/D))\n",
    "\n",
    "def delta_lam(x, delta_x):\n",
    "    del_x = g / ( D * (((x**2)/(D**2) + 1) ** (3/2)) )\n",
    "    del_D = g*x / ( (((x**2)/(D**2) + 1) ** (3/2)) * D**2)\n",
    "    return math.sqrt( (del_x * delta_x)**2 + (del_D * delta_D)**2 )\n",
    "\n",
    "def print_lam(x, delta_x):\n",
    "    print(\"Wavelength for x =\", x, \"is\", round(calc_lam(x)*1000, 2), \"+-\", round(delta_lam(x, delta_x)*1000, 2), \"nm\")\n"
   ]
  },
  {
   "cell_type": "code",
   "execution_count": 72,
   "metadata": {},
   "outputs": [
    {
     "name": "stdout",
     "output_type": "stream",
     "text": [
      "Wavelength for x = 714 is 582.09 +- 36.13 nm\n",
      "Wavelength for x = 523 is 441.77 +- 29.91 nm\n"
     ]
    }
   ],
   "source": [
    "print_lam(714, 10)\n",
    "print_lam(523, 10)"
   ]
  },
  {
   "cell_type": "code",
   "execution_count": null,
   "metadata": {},
   "outputs": [],
   "source": []
  }
 ],
 "metadata": {
  "kernelspec": {
   "display_name": "Python 3",
   "language": "python",
   "name": "python3"
  },
  "language_info": {
   "codemirror_mode": {
    "name": "ipython",
    "version": 3
   },
   "file_extension": ".py",
   "mimetype": "text/x-python",
   "name": "python",
   "nbconvert_exporter": "python",
   "pygments_lexer": "ipython3",
   "version": "3.11.3"
  },
  "orig_nbformat": 4
 },
 "nbformat": 4,
 "nbformat_minor": 2
}
