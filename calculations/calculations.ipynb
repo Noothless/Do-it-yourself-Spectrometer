{
 "cells": [
  {
   "cell_type": "code",
   "execution_count": 2,
   "metadata": {},
   "outputs": [],
   "source": [
    "import matplotlib.pyplot as plt\n",
    "import numpy as np\n",
    "import pandas as pd\n",
    "import math"
   ]
  },
  {
   "attachments": {},
   "cell_type": "markdown",
   "metadata": {},
   "source": [
    "# Hypothetical grating constant g"
   ]
  },
  {
   "cell_type": "code",
   "execution_count": 3,
   "metadata": {},
   "outputs": [],
   "source": [
    "def calc_phi(x, D):\n",
    "    return math.atan(x/D) # angle / rad\n",
    "\n",
    "def calc_g(p, lam, phi):\n",
    "    return (p * lam) / math.sin(phi) #nm\n",
    "    "
   ]
  },
  {
   "cell_type": "code",
   "execution_count": 4,
   "metadata": {},
   "outputs": [
    {
     "name": "stdout",
     "output_type": "stream",
     "text": [
      "g = 1.5160546019594574\n"
     ]
    }
   ],
   "source": [
    "x_avg = 14 # cm\n",
    "p = 1 # 1st order\n",
    "D = 29.5 # cm\n",
    "lam = 650 # nm\n",
    "phi = calc_phi(x_avg, D)\n",
    "\n",
    "print(\"g =\", calc_g(p, lam, phi) / 1000) #um"
   ]
  },
  {
   "attachments": {},
   "cell_type": "markdown",
   "metadata": {},
   "source": [
    "$g = \\frac{p \\lambda}{\\sin(\\phi)}$\n",
    "\n",
    "$\\phi = \\arctan \\left( \\frac{x}{D} \\right)$"
   ]
  },
  {
   "attachments": {},
   "cell_type": "markdown",
   "metadata": {},
   "source": [
    "#### Error $\\Delta g$"
   ]
  },
  {
   "cell_type": "code",
   "execution_count": 5,
   "metadata": {},
   "outputs": [
    {
     "name": "stdout",
     "output_type": "stream",
     "text": [
      "0.023427786033594872\n"
     ]
    }
   ],
   "source": [
    "d_x = 0.1\n",
    "d_D = 0.1\n",
    "d_p = 0\n",
    "d_lam = 10\n",
    "\n",
    "del_x = 1 / (D * ((x_avg/D)**2 + 1))\n",
    "del_D = - x_avg / (D**2 * ((x_avg/D)**2 + 1))\n",
    "del_p = lam / math.sin(phi)\n",
    "del_lam = p / math.sin(phi)\n",
    "del_phi = - (p * lam) / (math.tan(phi) + math.sin(phi))\n",
    "\n",
    "d_phi = math.sqrt((del_x * d_x)**2 + (del_D * d_D)**2)\n",
    "\n",
    "d_g = math.sqrt((del_p * d_p)**2 + (del_lam * d_lam)**2 + (del_phi * d_phi)**2)\n",
    "print(d_g/1000) # um"
   ]
  },
  {
   "attachments": {},
   "cell_type": "markdown",
   "metadata": {},
   "source": [
    "$\\frac{\\partial \\phi}{\\partial x} = \\frac{D}{x^2 + D^2}$\n",
    "\n",
    "$\\frac{\\partial \\phi}{\\partial D} = - \\frac{x}{x^2 + D^2}$\n",
    "\n",
    "$\\Delta \\phi = \\sqrt{\\left( \\frac{\\partial \\phi}{\\partial x} \\Delta x \\right)^2 + \\left( \\frac{\\partial \\phi}{\\partial D} \\Delta D \\right)^2}$\n",
    "\n",
    "$\\frac{\\partial g}{\\partial p} = \\frac{\\lambda}{\\sin(\\phi)}$\n",
    "\n",
    "$\\frac{\\partial g}{\\partial \\lambda} = \\frac{p}{\\sin(\\phi)}$\n",
    "\n",
    "$\\frac{\\partial g}{\\partial \\phi} = - \\frac{p \\lambda}{\\tan(\\phi) \\sin(\\phi)}$\n",
    "\n",
    "$\\Delta g = \\sqrt{\\left( \\frac{\\partial g}{\\partial p} \\Delta p \\right)^2 + \\left( \\frac{\\partial g}{\\partial \\lambda} \\Delta \\lambda \\right)^2 + \\left( \\frac{\\partial g}{\\partial \\phi} \\Delta \\phi \\right)^2}$"
   ]
  },
  {
   "attachments": {},
   "cell_type": "markdown",
   "metadata": {},
   "source": [
    "## Sensor Calibration"
   ]
  },
  {
   "cell_type": "code",
   "execution_count": 6,
   "metadata": {},
   "outputs": [],
   "source": [
    "xs = [474.0, 593.0, 702.0] # pixel +- 10\n",
    "lams = [0.41, 0.5, 0.56] # um +- 30"
   ]
  },
  {
   "cell_type": "code",
   "execution_count": 7,
   "metadata": {},
   "outputs": [],
   "source": [
    "g = 1.514 # um\n",
    "\n",
    "def calc_d(x, lam):\n",
    "    return x/(math.tan(math.asin(lam/g)))\n",
    "\n",
    "def delta_d(x, delta_x, lam, delta_lam):\n",
    "    del_x = 1/( math.tan( math.asin(lam/g) ) )\n",
    "    del_lam = g*x/( (lam**2) * math.sqrt( 1 - (lam**2)/(g**2) ) )\n",
    "    return math.sqrt( (del_x * delta_x)**2 + (del_lam * delta_lam)**2 )"
   ]
  },
  {
   "cell_type": "code",
   "execution_count": 8,
   "metadata": {},
   "outputs": [
    {
     "name": "stdout",
     "output_type": "stream",
     "text": [
      "Distance between camera and grating: 1.71 +- 0.12 mm\n"
     ]
    }
   ],
   "source": [
    "D = 0\n",
    "delta_D = 0\n",
    "\n",
    "for i,j in zip(xs,lams):\n",
    "    D += calc_d(i,j)\n",
    "    delta_D += delta_d(i, 10.0, j, 0.03)\n",
    "\n",
    "D /= len(xs)\n",
    "delta_D /= len(lams)\n",
    "print(\"Distance between camera and grating:\", round(D/1000,2), \"+-\", round(delta_D/1000,2), \"mm\")\n"
   ]
  },
  {
   "attachments": {},
   "cell_type": "markdown",
   "metadata": {},
   "source": [
    "$\\Delta d = \\sqrt{\\left(\\frac{\\partial d}{\\partial x}\\right)^2 + \\left(\\frac{\\partial d}{\\partial \\lambda}\\right)^2}$"
   ]
  },
  {
   "cell_type": "code",
   "execution_count": 9,
   "metadata": {},
   "outputs": [],
   "source": [
    "def calc_lam(x):\n",
    "    return g*math.sin(math.atan(x/D))\n",
    "\n",
    "def delta_lam(x, delta_x):\n",
    "    del_x = g / ( D * (((x**2)/(D**2) + 1) ** (3/2)) )\n",
    "    del_D = g*x / ( (((x**2)/(D**2) + 1) ** (3/2)) * D**2)\n",
    "    return math.sqrt( (del_x * delta_x)**2 + (del_D * delta_D)**2 )\n",
    "\n",
    "def print_lam(x, delta_x):\n",
    "    print(\"Wavelength for x =\", x, \"is\", round(calc_lam(x)*1000, 2), \"+-\", round(delta_lam(x, delta_x)*1000, 2), \"nm\")\n"
   ]
  },
  {
   "cell_type": "code",
   "execution_count": 10,
   "metadata": {},
   "outputs": [
    {
     "name": "stdout",
     "output_type": "stream",
     "text": [
      "Wavelength for x = 512 is 433.25 +- 29.48 nm\n",
      "Wavelength for x = 543 is 457.15 +- 30.67 nm\n",
      "Wavelength for x = 744 is 602.73 +- 36.89 nm\n",
      "Wavelength for x = 773 is 622.32 +- 37.57 nm\n"
     ]
    }
   ],
   "source": [
    "print_lam(512, 10)\n",
    "print_lam(543, 10)\n",
    "print_lam(744, 10)\n",
    "print_lam(773, 10)"
   ]
  },
  {
   "cell_type": "code",
   "execution_count": 11,
   "metadata": {},
   "outputs": [
    {
     "name": "stdout",
     "output_type": "stream",
     "text": [
      "Wavelength for x = 508 is 430.14 +- 29.32 nm\n",
      "Wavelength for x = 540 is 454.86 +- 30.56 nm\n",
      "Wavelength for x = 582 is 486.7 +- 32.08 nm\n",
      "Wavelength for x = 682 is 559.63 +- 35.26 nm\n",
      "Wavelength for x = 721 is 586.94 +- 36.32 nm\n",
      "Wavelength for x = 773 is 622.32 +- 37.57 nm\n"
     ]
    }
   ],
   "source": [
    "print_lam(508, 10)\n",
    "print_lam(540, 10)\n",
    "\n",
    "print_lam(582, 10)\n",
    "print_lam(682, 10)\n",
    "\n",
    "print_lam(721, 10)\n",
    "print_lam(773, 10)"
   ]
  },
  {
   "cell_type": "code",
   "execution_count": null,
   "metadata": {},
   "outputs": [],
   "source": [
    "print_lam(507, 10)\n",
    "print_lam(815, 10)"
   ]
  }
 ],
 "metadata": {
  "kernelspec": {
   "display_name": "Python 3",
   "language": "python",
   "name": "python3"
  },
  "language_info": {
   "codemirror_mode": {
    "name": "ipython",
    "version": 3
   },
   "file_extension": ".py",
   "mimetype": "text/x-python",
   "name": "python",
   "nbconvert_exporter": "python",
   "pygments_lexer": "ipython3",
   "version": "3.11.3"
  },
  "orig_nbformat": 4
 },
 "nbformat": 4,
 "nbformat_minor": 2
}
